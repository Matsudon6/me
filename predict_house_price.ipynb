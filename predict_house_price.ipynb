{
  "nbformat": 4,
  "nbformat_minor": 0,
  "metadata": {
    "colab": {
      "provenance": [],
      "authorship_tag": "ABX9TyNMrqPG4rHzxKMqV4X3m4c0",
      "include_colab_link": true
    },
    "kernelspec": {
      "name": "python3",
      "display_name": "Python 3"
    },
    "language_info": {
      "name": "python"
    }
  },
  "cells": [
    {
      "cell_type": "markdown",
      "metadata": {
        "id": "view-in-github",
        "colab_type": "text"
      },
      "source": [
        "<a href=\"https://colab.research.google.com/github/Matsudon6/me/blob/main/predict_house_price.ipynb\" target=\"_parent\"><img src=\"https://colab.research.google.com/assets/colab-badge.svg\" alt=\"Open In Colab\"/></a>"
      ]
    },
    {
      "cell_type": "markdown",
      "source": [
        "🎯 Objectif :\n",
        "Tu dois prédire le prix d'une maison à partir de ses caractéristiques.\n",
        "Tu travailleras sur un petit jeu de données simulé."
      ],
      "metadata": {
        "id": "PYpVYMGVAAfK"
      }
    },
    {
      "cell_type": "markdown",
      "source": [
        "✅ Tâches à réaliser (à toi de jouer !) :\n",
        "\n",
        "1.   Prépare les données (imputation + standardisation).\n",
        "2.   Entraîne un modèle de régression linéaire.\n",
        "3.   Affiche les coefficients du modèle.\n",
        "4.   Évalue la performance avec MSE, RMSE, R².\n",
        "5.   Visualise les valeurs prédites vs les vraies valeurs sur un graphe."
      ],
      "metadata": {
        "id": "n2Zjtn3FACqV"
      }
    },
    {
      "cell_type": "code",
      "source": [
        "import numpy as np\n",
        "import pandas as pd\n",
        "from sklearn.impute import SimpleImputer\n",
        "from sklearn.preprocessing import StandardScaler\n",
        "from sklearn.model_selection import train_test_split\n",
        "from sklearn.linear_model import LinearRegression\n",
        "from sklearn.metrics import mean_squared_error\n",
        "import matplotlib.pyplot as plt\n",
        "import seaborn as sns\n",
        "\n",
        "# Préparation des données\n",
        "np.random.seed(42)\n",
        "n = 100\n",
        "data = {\n",
        "    'surface': np.random.normal(70, 10, n),\n",
        "    'nb_pieces': np.random.randint(1, 6, n),\n",
        "    'age': np.random.normal(20, 5, n)\n",
        "}\n",
        "\n",
        "# Nouveau prix avec une vraie relation\n",
        "prix = (\n",
        "    3000 * data['surface'] +\n",
        "    15000 * data['nb_pieces'] -\n",
        "    800 * data['age'] +\n",
        "    np.random.normal(0, 10000, n)  # un peu de bruit\n",
        ")\n",
        "\n",
        "df = pd.DataFrame(data)\n",
        "df['prix'] = prix\n",
        "\n",
        "# Ajout de valeurs manquantes\n",
        "df.loc[np.random.choice(df.index, 5), 'surface'] = np.nan\n",
        "df.loc[np.random.choice(df.index, 5), 'age'] = np.nan\n",
        "\n",
        "df_clean = pd.concat([df, pd.get_dummies(df['nb_pieces'], prefix=\"num_rooms\")], axis=1).drop('nb_pieces', axis=1)\n",
        "df_clean.head()\n",
        "\n",
        "# Séparation des jeux de données\n",
        "X = df_clean.drop('prix', axis=1).values\n",
        "y = df_clean['prix'].values\n",
        "\n",
        "X_train, X_test, y_train, y_test = train_test_split(X, y, test_size=.2, random_state=42)\n",
        "\n",
        "# Imputation > NA\n",
        "imputer = SimpleImputer()\n",
        "X_train = imputer.fit_transform(X_train)\n",
        "X_test = imputer.transform(X_test)\n",
        "\n",
        "# Standardisation\n",
        "scaler = StandardScaler()\n",
        "X_train_scaled = scaler.fit_transform(X_train)\n",
        "X_test_scaled = scaler.transform(X_test)\n",
        "\n",
        "# Création du modèle\n",
        "linreg = LinearRegression()\n",
        "linreg.fit(X_train_scaled, y_train)\n",
        "y_pred = linreg.predict(X_test_scaled)\n",
        "\n",
        "# Score du modèle\n",
        "R2 = linreg.score(X_test_scaled, y_test)\n",
        "MSE = mean_squared_error(y_test, y_pred)\n",
        "RMSE = np.sqrt(MSE)\n",
        "\n",
        "print(\"Les scores du modèle sont : \\nR2: {}, RMSE: {}\".format(R2, RMSE))\n",
        "\n",
        "for col, coef in zip(df_clean.columns, linreg.coef_):\n",
        "  print(col + \": \" + str(np.round(coef, 2)))"
      ],
      "metadata": {
        "id": "YZHPmWPbBOG0",
        "outputId": "6d381f13-77bf-46a9-d51b-5e5e40db3e9b",
        "colab": {
          "base_uri": "https://localhost:8080/"
        }
      },
      "execution_count": 95,
      "outputs": [
        {
          "output_type": "stream",
          "name": "stdout",
          "text": [
            "Les scores du modèle sont : \n",
            "R2: 0.8276081401382349, RMSE: 14072.51658039601\n"
          ]
        }
      ]
    },
    {
      "cell_type": "code",
      "source": [],
      "metadata": {
        "id": "imr1xch02Pkb",
        "outputId": "2171a93b-4cf2-4496-8a49-8ffe5ec519ba",
        "colab": {
          "base_uri": "https://localhost:8080/"
        }
      },
      "execution_count": 108,
      "outputs": [
        {
          "output_type": "stream",
          "name": "stdout",
          "text": [
            "surface: 25074.05\n",
            "age: -2435.34\n",
            "prix: -10431.73\n",
            "num_rooms_1: -4879.58\n",
            "num_rooms_2: 2506.92\n",
            "num_rooms_3: 7547.35\n",
            "num_rooms_4: 8636.7\n"
          ]
        }
      ]
    },
    {
      "cell_type": "code",
      "source": [
        "sns.scatterplot(x=y_test, y=y_pred)\n",
        "plt.plot([y_test.min(), y_test.max()], [y_test.min(), y_test.max()], 'r--')"
      ],
      "metadata": {
        "id": "O1ejZJz1AHaD",
        "outputId": "161f0942-5bfe-44f2-d34d-60d1a6a969da",
        "colab": {
          "base_uri": "https://localhost:8080/",
          "height": 448
        }
      },
      "execution_count": 115,
      "outputs": [
        {
          "output_type": "execute_result",
          "data": {
            "text/plain": [
              "[<matplotlib.lines.Line2D at 0x7e7690763050>]"
            ]
          },
          "metadata": {},
          "execution_count": 115
        },
        {
          "output_type": "display_data",
          "data": {
            "text/plain": [
              "<Figure size 640x480 with 1 Axes>"
            ],
            "image/png": "[encoded data removed]"
          },
          "metadata": {}
        }
      ]
    },
    {
      "cell_type": "code",
      "source": [],
      "metadata": {
        "id": "jTp8Wp70Bydu"
      },
      "execution_count": null,
      "outputs": []
    }
  ]
}